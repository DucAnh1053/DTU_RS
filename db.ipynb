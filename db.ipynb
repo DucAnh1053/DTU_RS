{
 "cells": [
  {
   "cell_type": "markdown",
   "metadata": {},
   "source": [
    "Import một số thư viện cần thiết"
   ]
  },
  {
   "cell_type": "code",
   "execution_count": 1,
   "metadata": {},
   "outputs": [
    {
     "name": "stderr",
     "output_type": "stream",
     "text": [
      "d:\\Lab\\DTU_RS\\DTU_RS\\.venv\\Lib\\site-packages\\tqdm\\auto.py:21: TqdmWarning: IProgress not found. Please update jupyter and ipywidgets. See https://ipywidgets.readthedocs.io/en/stable/user_install.html\n",
      "  from .autonotebook import tqdm as notebook_tqdm\n"
     ]
    }
   ],
   "source": [
    "import numpy as np\n",
    "import pandas as pd\n",
    "import implicit\n",
    "import scipy.sparse as sparse\n",
    "import torch\n",
    "from pymongo.mongo_client import MongoClient\n",
    "from pymongo.server_api import ServerApi"
   ]
  },
  {
   "cell_type": "code",
   "execution_count": 2,
   "metadata": {},
   "outputs": [
    {
     "data": {
      "text/plain": [
       "device(type='cuda', index=0)"
      ]
     },
     "execution_count": 2,
     "metadata": {},
     "output_type": "execute_result"
    }
   ],
   "source": [
    "# determine the supported device\n",
    "def get_device():\n",
    "    if torch.cuda.is_available():\n",
    "        device = torch.device('cuda:0')\n",
    "    else:\n",
    "        device = torch.device('cpu') # don't have GPU \n",
    "    return device\n",
    "\n",
    "get_device()"
   ]
  },
  {
   "cell_type": "markdown",
   "metadata": {},
   "source": [
    "Kết nối đến MongoDB"
   ]
  },
  {
   "cell_type": "code",
   "execution_count": 3,
   "metadata": {},
   "outputs": [
    {
     "name": "stdout",
     "output_type": "stream",
     "text": [
      "Pinged your deployment. You successfully connected to MongoDB!\n"
     ]
    }
   ],
   "source": [
    "uri = \"mongodb+srv://<user>:<pass>@cluster0.jmil5cr.mongodb.net/?retryWrites=true&w=majority&appName=Cluster0\"  # Thay user, pass của mình vào\n",
    "\n",
    "# Kết nối tới server\n",
    "client = MongoClient(uri, server_api=ServerApi('1'))\n",
    "\n",
    "# Kiểm tra xem kết nối đã thành công chưa\n",
    "try:\n",
    "    client.admin.command('ping')\n",
    "    print(\"Pinged your deployment. You successfully connected to MongoDB!\")\n",
    "except Exception as e:\n",
    "    print(e)"
   ]
  },
  {
   "cell_type": "markdown",
   "metadata": {},
   "source": [
    "Kết nối đến CSDL"
   ]
  },
  {
   "cell_type": "code",
   "execution_count": 4,
   "metadata": {},
   "outputs": [],
   "source": [
    "db = client['dtu']"
   ]
  },
  {
   "cell_type": "code",
   "execution_count": 5,
   "metadata": {},
   "outputs": [],
   "source": [
    "history = db[\"answered_questions\"] # Collection chứa 100 câu hỏi người chơi đã chơi gần nhất"
   ]
  },
  {
   "cell_type": "markdown",
   "metadata": {},
   "source": [
    "Dưới đây là Pipeline nhằm lấy ra dữ liệu theo định dạng mong muốn, hiện tại là bảng lịch sử 100 lần gần nhất đã được lấy ra từ DB (theo một cách nào đó... do chưa chốt DB cuối cùng). Ta thực hiện bóc tách các mảng và các thuộc tính của đối tượng"
   ]
  },
  {
   "cell_type": "code",
   "execution_count": 6,
   "metadata": {},
   "outputs": [],
   "source": [
    "pipeline = [{\"$unwind\": \"$questions\"}, \n",
    "            {\"$project\": {\"_id\": 0, \n",
    "                          \"player\": \"$playerId._id\", \n",
    "                          \"question\": \"$questions._id\", \n",
    "                          \"player_major\": \"$playerId.major\", \n",
    "                          \"player_rank\": \"$playerId.rank\", \n",
    "                          \"question_diff\": \"$questions.difficulty\",\n",
    "                          \"question_category\": \"$questions.category\",\n",
    "                          \"time\": \"$questions.timeForAnswer\",\n",
    "                          \"status\": \"$questions.status\"}}]"
   ]
  },
  {
   "cell_type": "code",
   "execution_count": 7,
   "metadata": {},
   "outputs": [],
   "source": [
    "# Lấy dữ liệu từ DB\n",
    "data = history.aggregate(pipeline)"
   ]
  },
  {
   "cell_type": "markdown",
   "metadata": {},
   "source": [
    "Nhằm mục đích dễ phân tích, em sẽ chuyển dữ liệu lấy về thành Dataframe sử dụng Pandas"
   ]
  },
  {
   "cell_type": "code",
   "execution_count": 8,
   "metadata": {},
   "outputs": [],
   "source": [
    "df = pd.DataFrame(list(history.aggregate(pipeline)))"
   ]
  },
  {
   "cell_type": "code",
   "execution_count": 9,
   "metadata": {},
   "outputs": [
    {
     "data": {
      "text/html": [
       "<div>\n",
       "<style scoped>\n",
       "    .dataframe tbody tr th:only-of-type {\n",
       "        vertical-align: middle;\n",
       "    }\n",
       "\n",
       "    .dataframe tbody tr th {\n",
       "        vertical-align: top;\n",
       "    }\n",
       "\n",
       "    .dataframe thead th {\n",
       "        text-align: right;\n",
       "    }\n",
       "</style>\n",
       "<table border=\"1\" class=\"dataframe\">\n",
       "  <thead>\n",
       "    <tr style=\"text-align: right;\">\n",
       "      <th></th>\n",
       "      <th>player</th>\n",
       "      <th>question</th>\n",
       "      <th>player_major</th>\n",
       "      <th>player_rank</th>\n",
       "      <th>question_diff</th>\n",
       "      <th>question_category</th>\n",
       "      <th>time</th>\n",
       "      <th>status</th>\n",
       "    </tr>\n",
       "  </thead>\n",
       "  <tbody>\n",
       "    <tr>\n",
       "      <th>0</th>\n",
       "      <td>65fbfc409a31efcf7a3fb085</td>\n",
       "      <td>65fbf56a4dba71a085a1e31b</td>\n",
       "      <td>[Physics, Math, Eng, His]</td>\n",
       "      <td>3</td>\n",
       "      <td>4</td>\n",
       "      <td>Eng</td>\n",
       "      <td>6</td>\n",
       "      <td>0</td>\n",
       "    </tr>\n",
       "    <tr>\n",
       "      <th>1</th>\n",
       "      <td>65fbfc409a31efcf7a3fb085</td>\n",
       "      <td>65fbf56a4dba71a085a1d4f8</td>\n",
       "      <td>[Physics, Math, Eng, His]</td>\n",
       "      <td>3</td>\n",
       "      <td>5</td>\n",
       "      <td>His</td>\n",
       "      <td>12</td>\n",
       "      <td>1</td>\n",
       "    </tr>\n",
       "    <tr>\n",
       "      <th>2</th>\n",
       "      <td>65fbfc409a31efcf7a3fb085</td>\n",
       "      <td>65fbfb83b5440169b33e087b</td>\n",
       "      <td>[Physics, Math, Eng, His]</td>\n",
       "      <td>3</td>\n",
       "      <td>4</td>\n",
       "      <td>His</td>\n",
       "      <td>26</td>\n",
       "      <td>0</td>\n",
       "    </tr>\n",
       "    <tr>\n",
       "      <th>3</th>\n",
       "      <td>65fbfc409a31efcf7a3fb085</td>\n",
       "      <td>65fbfb83b5440169b33dfb68</td>\n",
       "      <td>[Physics, Math, Eng, His]</td>\n",
       "      <td>3</td>\n",
       "      <td>3</td>\n",
       "      <td>Physics</td>\n",
       "      <td>27</td>\n",
       "      <td>1</td>\n",
       "    </tr>\n",
       "    <tr>\n",
       "      <th>4</th>\n",
       "      <td>65fbfc409a31efcf7a3fb085</td>\n",
       "      <td>65fbfb83b5440169b33e0a1c</td>\n",
       "      <td>[Physics, Math, Eng, His]</td>\n",
       "      <td>3</td>\n",
       "      <td>4</td>\n",
       "      <td>His</td>\n",
       "      <td>23</td>\n",
       "      <td>0</td>\n",
       "    </tr>\n",
       "  </tbody>\n",
       "</table>\n",
       "</div>"
      ],
      "text/plain": [
       "                     player                  question  \\\n",
       "0  65fbfc409a31efcf7a3fb085  65fbf56a4dba71a085a1e31b   \n",
       "1  65fbfc409a31efcf7a3fb085  65fbf56a4dba71a085a1d4f8   \n",
       "2  65fbfc409a31efcf7a3fb085  65fbfb83b5440169b33e087b   \n",
       "3  65fbfc409a31efcf7a3fb085  65fbfb83b5440169b33dfb68   \n",
       "4  65fbfc409a31efcf7a3fb085  65fbfb83b5440169b33e0a1c   \n",
       "\n",
       "                player_major  player_rank  question_diff question_category  \\\n",
       "0  [Physics, Math, Eng, His]            3              4               Eng   \n",
       "1  [Physics, Math, Eng, His]            3              5               His   \n",
       "2  [Physics, Math, Eng, His]            3              4               His   \n",
       "3  [Physics, Math, Eng, His]            3              3           Physics   \n",
       "4  [Physics, Math, Eng, His]            3              4               His   \n",
       "\n",
       "   time  status  \n",
       "0     6       0  \n",
       "1    12       1  \n",
       "2    26       0  \n",
       "3    27       1  \n",
       "4    23       0  "
      ]
     },
     "execution_count": 9,
     "metadata": {},
     "output_type": "execute_result"
    }
   ],
   "source": [
    "df.head()"
   ]
  },
  {
   "cell_type": "markdown",
   "metadata": {},
   "source": [
    "Ở đây mỗi người chơi đều trả lời 100 câu hỏi, do đó ta sẽ chỉ loại bỏ các câu hỏi có ít hơn n (giả sử n = 2) người chơi:"
   ]
  },
  {
   "cell_type": "code",
   "execution_count": 10,
   "metadata": {},
   "outputs": [],
   "source": [
    "df_players_per_question = (\n",
    "    df.groupby([\"question\"]).agg({\"player\": \"nunique\"}).reset_index()\n",
    ")\n",
    "df_players_per_question.columns = [\"question\", \"num_of_players\"]"
   ]
  },
  {
   "cell_type": "code",
   "execution_count": 11,
   "metadata": {},
   "outputs": [],
   "source": [
    "# Lấy ra danh sách các câu hỏi có nhiều hơn n người trả lời (giả sử n = 2)\n",
    "num_of_players_threshold = 2\n",
    "\n",
    "mask = df_players_per_question[\"num_of_players\"] >= num_of_players_threshold\n",
    "valid_questions = set(df_players_per_question.loc[mask, \"question\"].tolist())"
   ]
  },
  {
   "cell_type": "code",
   "execution_count": 12,
   "metadata": {},
   "outputs": [],
   "source": [
    "# Lọc các record không phù hợp\n",
    "df_filter_ques = df[df[\"question\"].isin(valid_questions)].copy()"
   ]
  },
  {
   "cell_type": "code",
   "execution_count": 13,
   "metadata": {},
   "outputs": [
    {
     "data": {
      "text/plain": [
       "(1000000, 8)"
      ]
     },
     "execution_count": 13,
     "metadata": {},
     "output_type": "execute_result"
    }
   ],
   "source": [
    "df.shape"
   ]
  },
  {
   "cell_type": "code",
   "execution_count": 14,
   "metadata": {},
   "outputs": [
    {
     "data": {
      "text/plain": [
       "(1000000, 8)"
      ]
     },
     "execution_count": 14,
     "metadata": {},
     "output_type": "execute_result"
    }
   ],
   "source": [
    "df_filter_ques.shape"
   ]
  },
  {
   "cell_type": "markdown",
   "metadata": {},
   "source": [
    "Lượng dữ liệu sau lọc không nhau mấy, do lượng câu hỏi được phân bổ khá đều"
   ]
  },
  {
   "cell_type": "code",
   "execution_count": 15,
   "metadata": {},
   "outputs": [
    {
     "data": {
      "text/plain": [
       "22"
      ]
     },
     "execution_count": 15,
     "metadata": {},
     "output_type": "execute_result"
    }
   ],
   "source": [
    "df_players_per_question[\"num_of_players\"].min()"
   ]
  },
  {
   "cell_type": "markdown",
   "metadata": {},
   "source": [
    "## Áp dụng Collaborative Filtering với thư viện Implicit"
   ]
  },
  {
   "cell_type": "code",
   "execution_count": 16,
   "metadata": {},
   "outputs": [],
   "source": [
    "unique_players = df_filter_ques[\"player\"].unique()\n",
    "player_ids = dict(\n",
    "    zip(unique_players, np.arange(unique_players.shape[0])))\n",
    "\n",
    "unique_questions = df_filter_ques[\"question\"].unique()\n",
    "question_ids = dict(\n",
    "    zip(unique_questions, np.arange(unique_questions.shape[0])))\n",
    "\n",
    "df_filter_ques[\"player_id\"] = df_filter_ques[\"player\"].apply(\n",
    "    lambda i: player_ids[i]\n",
    ")\n",
    "df_filter_ques[\"question_id\"] = df_filter_ques[\"question\"].apply(\n",
    "    lambda i: question_ids[i]\n",
    ")"
   ]
  },
  {
   "cell_type": "code",
   "execution_count": 17,
   "metadata": {},
   "outputs": [
    {
     "name": "stdout",
     "output_type": "stream",
     "text": [
      "Số người chơi:  6349\n",
      "Số câu hỏi:  20000\n"
     ]
    }
   ],
   "source": [
    "print(\"Số người chơi: \", len(player_ids))\n",
    "print(\"Số câu hỏi: \", len(question_ids))"
   ]
  },
  {
   "cell_type": "code",
   "execution_count": 18,
   "metadata": {},
   "outputs": [
    {
     "data": {
      "text/plain": [
       "array(['Physics', 'Math', 'Eng', 'His', 'Geo', 'Literature'], dtype=object)"
      ]
     },
     "execution_count": 18,
     "metadata": {},
     "output_type": "execute_result"
    }
   ],
   "source": [
    "# Lấy ra lĩnh vực của người chơi\n",
    "unique_majors = df_filter_ques[\"player_major\"].explode().unique()\n",
    "unique_majors"
   ]
  },
  {
   "cell_type": "code",
   "execution_count": 19,
   "metadata": {},
   "outputs": [
    {
     "data": {
      "text/plain": [
       "array(['Eng', 'His', 'Physics', 'Math', 'Literature', 'Geo'], dtype=object)"
      ]
     },
     "execution_count": 19,
     "metadata": {},
     "output_type": "execute_result"
    }
   ],
   "source": [
    "# Lấy ra lĩnh vực của câu hỏi\n",
    "unique_categories = df_filter_ques['question_category'].unique()\n",
    "unique_categories"
   ]
  },
  {
   "cell_type": "markdown",
   "metadata": {},
   "source": [
    "Để thực hiện Collaborative Filtering, cần tính giá trị $rating$ thể hiện cho độ phù hợp của người chơi với câu hỏi. Hiện tại công thức được đề xuất như sau:\n",
    "\n",
    "$$rating = 0.2 \\cdot performance + 0.3 \\cdot sim(player \\_ rank, question \\_ diff) + 0.5 \\cdot sim(player \\_ major, question \\_ category)$$\n",
    "\n",
    "Trong đó: $performance = 1 - \\frac{time}{max \\_ time}$\n",
    "\n",
    "Ta sẽ lần lượt tính các giá trị trong công thức trên"
   ]
  },
  {
   "cell_type": "code",
   "execution_count": 20,
   "metadata": {},
   "outputs": [],
   "source": [
    "performance = 1 - df_filter_ques[\"time\"]/60  # Giả sử thời gian tối đa là 60"
   ]
  },
  {
   "cell_type": "code",
   "execution_count": 21,
   "metadata": {},
   "outputs": [],
   "source": [
    "# Áp dụng one hot encoding cho cột player_major và question_category\n",
    "encoded_player_major = pd.get_dummies(df_filter_ques[\"player_major\"].explode())\n",
    "encoded_player_major = encoded_player_major.groupby(encoded_player_major.index).sum()\n",
    "\n",
    "encoded_question_category = pd.get_dummies(df_filter_ques[\"question_category\"])\n",
    "\n",
    "# Tính cosine similarity giữa hai cột sau khi one-hot encoding\n",
    "sim_player_question = torch.nn.functional.cosine_similarity(torch.tensor(encoded_player_major.values.astype(np.float32)).to(get_device()), \n",
    "                                                            torch.tensor(encoded_question_category.values.astype(np.float32)).to(get_device()))"
   ]
  },
  {
   "cell_type": "code",
   "execution_count": 22,
   "metadata": {},
   "outputs": [],
   "source": [
    "# Tính similarity giữa player_rank (0-9) và question_diff (1-5)\n",
    "rank_norm = df_filter_ques[\"player_rank\"].apply(lambda x: x/9)\n",
    "diff_norm = df_filter_ques[\"question_diff\"].apply(lambda x: (x-1)/4)\n",
    "max_values = pd.concat([rank_norm, diff_norm], axis=1).max(axis=1)\n",
    "\n",
    "sim_rank_diff = (rank_norm - diff_norm).abs()/max_values"
   ]
  },
  {
   "cell_type": "code",
   "execution_count": 23,
   "metadata": {},
   "outputs": [],
   "source": [
    "# Tính các giá trị rating\n",
    "\n",
    "rating = (0.2 * performance) + (0.3 * sim_rank_diff) + (0.5 * sim_player_question.cpu().numpy())"
   ]
  },
  {
   "cell_type": "code",
   "execution_count": 24,
   "metadata": {},
   "outputs": [],
   "source": [
    "rating.name = \"rating\""
   ]
  },
  {
   "cell_type": "code",
   "execution_count": 25,
   "metadata": {},
   "outputs": [],
   "source": [
    "df_player_ques_rating = pd.concat([df_filter_ques[[\"player_id\", \"question_id\"]], rating], axis=1)"
   ]
  },
  {
   "cell_type": "markdown",
   "metadata": {},
   "source": [
    "Ở đây vẫn còn một vấn đề trong data, có trường hợp người chơi trả lời lại một câu hỏi đã trả lời trước đó. Ta sẽ gộp lại và lấy mean rating."
   ]
  },
  {
   "cell_type": "code",
   "execution_count": 26,
   "metadata": {},
   "outputs": [],
   "source": [
    "df_player_ques_rating = df_player_ques_rating.groupby([\"player_id\", \"question_id\"]).agg({\"rating\": \"mean\"}).reset_index()"
   ]
  },
  {
   "cell_type": "code",
   "execution_count": 27,
   "metadata": {},
   "outputs": [
    {
     "data": {
      "text/html": [
       "<div>\n",
       "<style scoped>\n",
       "    .dataframe tbody tr th:only-of-type {\n",
       "        vertical-align: middle;\n",
       "    }\n",
       "\n",
       "    .dataframe tbody tr th {\n",
       "        vertical-align: top;\n",
       "    }\n",
       "\n",
       "    .dataframe thead th {\n",
       "        text-align: right;\n",
       "    }\n",
       "</style>\n",
       "<table border=\"1\" class=\"dataframe\">\n",
       "  <thead>\n",
       "    <tr style=\"text-align: right;\">\n",
       "      <th></th>\n",
       "      <th>player_id</th>\n",
       "      <th>question_id</th>\n",
       "      <th>rating</th>\n",
       "    </tr>\n",
       "  </thead>\n",
       "  <tbody>\n",
       "    <tr>\n",
       "      <th>0</th>\n",
       "      <td>0</td>\n",
       "      <td>0</td>\n",
       "      <td>0.596667</td>\n",
       "    </tr>\n",
       "    <tr>\n",
       "      <th>1</th>\n",
       "      <td>0</td>\n",
       "      <td>1</td>\n",
       "      <td>0.610000</td>\n",
       "    </tr>\n",
       "    <tr>\n",
       "      <th>2</th>\n",
       "      <td>0</td>\n",
       "      <td>2</td>\n",
       "      <td>0.530000</td>\n",
       "    </tr>\n",
       "    <tr>\n",
       "      <th>3</th>\n",
       "      <td>0</td>\n",
       "      <td>3</td>\n",
       "      <td>0.460000</td>\n",
       "    </tr>\n",
       "    <tr>\n",
       "      <th>4</th>\n",
       "      <td>0</td>\n",
       "      <td>4</td>\n",
       "      <td>0.540000</td>\n",
       "    </tr>\n",
       "  </tbody>\n",
       "</table>\n",
       "</div>"
      ],
      "text/plain": [
       "   player_id  question_id    rating\n",
       "0          0            0  0.596667\n",
       "1          0            1  0.610000\n",
       "2          0            2  0.530000\n",
       "3          0            3  0.460000\n",
       "4          0            4  0.540000"
      ]
     },
     "execution_count": 27,
     "metadata": {},
     "output_type": "execute_result"
    }
   ],
   "source": [
    "df_player_ques_rating.head()"
   ]
  },
  {
   "cell_type": "markdown",
   "metadata": {},
   "source": [
    "Bây giờ ta bắt đầu xây dựng mô hình dự đoán"
   ]
  },
  {
   "cell_type": "code",
   "execution_count": 28,
   "metadata": {},
   "outputs": [],
   "source": [
    "#Tạo ma trận thưa\n",
    "\n",
    "sparse_player_ques = sparse.csr_matrix(\n",
    "    (\n",
    "        df_player_ques_rating[\"rating\"].astype(float),\n",
    "        (df_player_ques_rating[\"player_id\"], df_player_ques_rating[\"question_id\"]),\n",
    "    )\n",
    ")"
   ]
  },
  {
   "cell_type": "code",
   "execution_count": 29,
   "metadata": {},
   "outputs": [
    {
     "name": "stderr",
     "output_type": "stream",
     "text": [
      "d:\\Lab\\DTU_RS\\DTU_RS\\.venv\\Lib\\site-packages\\implicit\\cpu\\als.py:95: RuntimeWarning: OpenBLAS is configured to use 12 threads. It is highly recommended to disable its internal threadpool by setting the environment variable 'OPENBLAS_NUM_THREADS=1' or by calling 'threadpoolctl.threadpool_limits(1, \"blas\")'. Having OpenBLAS use a threadpool can lead to severe performance issues here.\n",
      "  check_blas_config()\n"
     ]
    }
   ],
   "source": [
    "model = implicit.als.AlternatingLeastSquares()"
   ]
  },
  {
   "cell_type": "code",
   "execution_count": 30,
   "metadata": {},
   "outputs": [
    {
     "name": "stderr",
     "output_type": "stream",
     "text": [
      "100%|██████████| 15/15 [00:11<00:00,  1.36it/s]\n"
     ]
    }
   ],
   "source": [
    "model.fit(sparse_player_ques)"
   ]
  },
  {
   "cell_type": "markdown",
   "metadata": {},
   "source": [
    "## Thử sinh gợi ý\n",
    "\n",
    "Đối với CF, có hai kết quả có thể được sinh ra từ model:\n",
    "\n",
    "- Tìm các câu hỏi giống nhau\n",
    "\n",
    "- Gợi ý câu hỏi cho người chơi\n",
    "\n",
    "Ở đây ta sẽ chỉ quan tâm đến việc gợi ý câu hỏi cho người chơi."
   ]
  },
  {
   "cell_type": "code",
   "execution_count": 31,
   "metadata": {},
   "outputs": [],
   "source": [
    "df_player_id_map = df_filter_ques[[\"player\", \"player_id\", \"player_major\"]].drop_duplicates(\n",
    "    subset=\"player_id\"\n",
    ")"
   ]
  },
  {
   "cell_type": "code",
   "execution_count": 32,
   "metadata": {},
   "outputs": [
    {
     "data": {
      "text/html": [
       "<div>\n",
       "<style scoped>\n",
       "    .dataframe tbody tr th:only-of-type {\n",
       "        vertical-align: middle;\n",
       "    }\n",
       "\n",
       "    .dataframe tbody tr th {\n",
       "        vertical-align: top;\n",
       "    }\n",
       "\n",
       "    .dataframe thead th {\n",
       "        text-align: right;\n",
       "    }\n",
       "</style>\n",
       "<table border=\"1\" class=\"dataframe\">\n",
       "  <thead>\n",
       "    <tr style=\"text-align: right;\">\n",
       "      <th></th>\n",
       "      <th>player</th>\n",
       "      <th>player_id</th>\n",
       "      <th>player_major</th>\n",
       "    </tr>\n",
       "  </thead>\n",
       "  <tbody>\n",
       "    <tr>\n",
       "      <th>0</th>\n",
       "      <td>65fbfc409a31efcf7a3fb085</td>\n",
       "      <td>0</td>\n",
       "      <td>[Physics, Math, Eng, His]</td>\n",
       "    </tr>\n",
       "    <tr>\n",
       "      <th>100</th>\n",
       "      <td>65fbfc409a31efcf7a3f9e6d</td>\n",
       "      <td>1</td>\n",
       "      <td>[His, Physics, Geo, Literature]</td>\n",
       "    </tr>\n",
       "    <tr>\n",
       "      <th>200</th>\n",
       "      <td>65fbfc409a31efcf7a3f992c</td>\n",
       "      <td>2</td>\n",
       "      <td>[Math, Literature, Geo, His]</td>\n",
       "    </tr>\n",
       "    <tr>\n",
       "      <th>300</th>\n",
       "      <td>65fbfc409a31efcf7a3fa604</td>\n",
       "      <td>3</td>\n",
       "      <td>[Eng, Literature, Math, Geo]</td>\n",
       "    </tr>\n",
       "    <tr>\n",
       "      <th>400</th>\n",
       "      <td>65fbfc409a31efcf7a3fb03a</td>\n",
       "      <td>4</td>\n",
       "      <td>[Math, Literature, Physics, Geo]</td>\n",
       "    </tr>\n",
       "  </tbody>\n",
       "</table>\n",
       "</div>"
      ],
      "text/plain": [
       "                       player  player_id                      player_major\n",
       "0    65fbfc409a31efcf7a3fb085          0         [Physics, Math, Eng, His]\n",
       "100  65fbfc409a31efcf7a3f9e6d          1   [His, Physics, Geo, Literature]\n",
       "200  65fbfc409a31efcf7a3f992c          2      [Math, Literature, Geo, His]\n",
       "300  65fbfc409a31efcf7a3fa604          3      [Eng, Literature, Math, Geo]\n",
       "400  65fbfc409a31efcf7a3fb03a          4  [Math, Literature, Physics, Geo]"
      ]
     },
     "execution_count": 32,
     "metadata": {},
     "output_type": "execute_result"
    }
   ],
   "source": [
    "df_player_id_map.head()"
   ]
  },
  {
   "cell_type": "code",
   "execution_count": 33,
   "metadata": {},
   "outputs": [],
   "source": [
    "df_ques_desc = df_filter_ques[\n",
    "    [\"question_id\", \"question\", \"question_category\"]\n",
    "].drop_duplicates(subset=[\"question_id\"])"
   ]
  },
  {
   "cell_type": "code",
   "execution_count": 34,
   "metadata": {},
   "outputs": [
    {
     "name": "stdout",
     "output_type": "stream",
     "text": [
      "1006\n"
     ]
    }
   ],
   "source": [
    "from bson import ObjectId\n",
    "\n",
    "player = ObjectId(\"65fbfc409a31efcf7a3fb106\") # Ta sẽ gợi ý cho người chơi có ID sau\n",
    "player_id = df_player_id_map[df_player_id_map[\"player\"] == player][\"player_id\"].item()\n",
    "print(player_id)"
   ]
  },
  {
   "cell_type": "code",
   "execution_count": 35,
   "metadata": {},
   "outputs": [],
   "source": [
    "ids, scores = model.recommend(\n",
    "    player_id, sparse_player_ques[player_id], N=50, filter_already_liked_items=True\n",
    ")"
   ]
  },
  {
   "cell_type": "code",
   "execution_count": 36,
   "metadata": {},
   "outputs": [],
   "source": [
    "list_questions = df_ques_desc[df_ques_desc[\"question_id\"].isin(ids)][\"question\"].tolist()\n",
    "list_desc = df_ques_desc[df_ques_desc[\"question_id\"].isin(ids)][\"question_category\"].tolist()\n",
    "df_recommendations = pd.DataFrame(\n",
    "    {\n",
    "        \"question\": list_questions,\n",
    "        \"question_category\": list_desc,\n",
    "        \"score\": scores,\n",
    "        \"already_liked\": np.in1d(ids, sparse_player_ques[player_id].indices),\n",
    "    }\n",
    ")"
   ]
  },
  {
   "cell_type": "code",
   "execution_count": 37,
   "metadata": {},
   "outputs": [
    {
     "data": {
      "text/html": [
       "<div>\n",
       "<style scoped>\n",
       "    .dataframe tbody tr th:only-of-type {\n",
       "        vertical-align: middle;\n",
       "    }\n",
       "\n",
       "    .dataframe tbody tr th {\n",
       "        vertical-align: top;\n",
       "    }\n",
       "\n",
       "    .dataframe thead th {\n",
       "        text-align: right;\n",
       "    }\n",
       "</style>\n",
       "<table border=\"1\" class=\"dataframe\">\n",
       "  <thead>\n",
       "    <tr style=\"text-align: right;\">\n",
       "      <th></th>\n",
       "      <th>question</th>\n",
       "      <th>question_category</th>\n",
       "      <th>score</th>\n",
       "      <th>already_liked</th>\n",
       "    </tr>\n",
       "  </thead>\n",
       "  <tbody>\n",
       "    <tr>\n",
       "      <th>0</th>\n",
       "      <td>65fbfb83b5440169b33e0411</td>\n",
       "      <td>Eng</td>\n",
       "      <td>0.135988</td>\n",
       "      <td>False</td>\n",
       "    </tr>\n",
       "    <tr>\n",
       "      <th>1</th>\n",
       "      <td>65fbfb83b5440169b33dff4c</td>\n",
       "      <td>His</td>\n",
       "      <td>0.122309</td>\n",
       "      <td>False</td>\n",
       "    </tr>\n",
       "    <tr>\n",
       "      <th>2</th>\n",
       "      <td>65fbf56a4dba71a085a1e637</td>\n",
       "      <td>Literature</td>\n",
       "      <td>0.120429</td>\n",
       "      <td>False</td>\n",
       "    </tr>\n",
       "    <tr>\n",
       "      <th>3</th>\n",
       "      <td>65fbfb83b5440169b33e034f</td>\n",
       "      <td>His</td>\n",
       "      <td>0.107942</td>\n",
       "      <td>False</td>\n",
       "    </tr>\n",
       "    <tr>\n",
       "      <th>4</th>\n",
       "      <td>65fbf56a4dba71a085a1f789</td>\n",
       "      <td>His</td>\n",
       "      <td>0.107368</td>\n",
       "      <td>False</td>\n",
       "    </tr>\n",
       "    <tr>\n",
       "      <th>5</th>\n",
       "      <td>65fbf56a4dba71a085a1ec1c</td>\n",
       "      <td>Geo</td>\n",
       "      <td>0.106968</td>\n",
       "      <td>False</td>\n",
       "    </tr>\n",
       "    <tr>\n",
       "      <th>6</th>\n",
       "      <td>65fbfb83b5440169b33df761</td>\n",
       "      <td>Geo</td>\n",
       "      <td>0.105370</td>\n",
       "      <td>False</td>\n",
       "    </tr>\n",
       "    <tr>\n",
       "      <th>7</th>\n",
       "      <td>65fbfb83b5440169b33e02bf</td>\n",
       "      <td>Eng</td>\n",
       "      <td>0.104292</td>\n",
       "      <td>False</td>\n",
       "    </tr>\n",
       "    <tr>\n",
       "      <th>8</th>\n",
       "      <td>65fbfb83b5440169b33e02ca</td>\n",
       "      <td>Geo</td>\n",
       "      <td>0.103083</td>\n",
       "      <td>False</td>\n",
       "    </tr>\n",
       "    <tr>\n",
       "      <th>9</th>\n",
       "      <td>65fbfb83b5440169b33e04dc</td>\n",
       "      <td>Geo</td>\n",
       "      <td>0.101728</td>\n",
       "      <td>False</td>\n",
       "    </tr>\n",
       "    <tr>\n",
       "      <th>10</th>\n",
       "      <td>65fbf56a4dba71a085a1efe2</td>\n",
       "      <td>Eng</td>\n",
       "      <td>0.101725</td>\n",
       "      <td>False</td>\n",
       "    </tr>\n",
       "    <tr>\n",
       "      <th>11</th>\n",
       "      <td>65fbf56a4dba71a085a1f615</td>\n",
       "      <td>Literature</td>\n",
       "      <td>0.101156</td>\n",
       "      <td>False</td>\n",
       "    </tr>\n",
       "    <tr>\n",
       "      <th>12</th>\n",
       "      <td>65fbf56a4dba71a085a1d8c6</td>\n",
       "      <td>Geo</td>\n",
       "      <td>0.100742</td>\n",
       "      <td>False</td>\n",
       "    </tr>\n",
       "    <tr>\n",
       "      <th>13</th>\n",
       "      <td>65fbfb83b5440169b33e1237</td>\n",
       "      <td>His</td>\n",
       "      <td>0.098917</td>\n",
       "      <td>False</td>\n",
       "    </tr>\n",
       "    <tr>\n",
       "      <th>14</th>\n",
       "      <td>65fbf56a4dba71a085a1ef5b</td>\n",
       "      <td>Eng</td>\n",
       "      <td>0.098468</td>\n",
       "      <td>False</td>\n",
       "    </tr>\n",
       "    <tr>\n",
       "      <th>15</th>\n",
       "      <td>65fbf56a4dba71a085a1f734</td>\n",
       "      <td>Geo</td>\n",
       "      <td>0.098166</td>\n",
       "      <td>False</td>\n",
       "    </tr>\n",
       "    <tr>\n",
       "      <th>16</th>\n",
       "      <td>65fbf56a4dba71a085a1f1fa</td>\n",
       "      <td>Eng</td>\n",
       "      <td>0.096946</td>\n",
       "      <td>False</td>\n",
       "    </tr>\n",
       "    <tr>\n",
       "      <th>17</th>\n",
       "      <td>65fbf56a4dba71a085a1d60c</td>\n",
       "      <td>Literature</td>\n",
       "      <td>0.096829</td>\n",
       "      <td>False</td>\n",
       "    </tr>\n",
       "    <tr>\n",
       "      <th>18</th>\n",
       "      <td>65fbf56a4dba71a085a1d80b</td>\n",
       "      <td>Literature</td>\n",
       "      <td>0.094536</td>\n",
       "      <td>False</td>\n",
       "    </tr>\n",
       "    <tr>\n",
       "      <th>19</th>\n",
       "      <td>65fbfb83b5440169b33df0dc</td>\n",
       "      <td>Literature</td>\n",
       "      <td>0.094198</td>\n",
       "      <td>False</td>\n",
       "    </tr>\n",
       "    <tr>\n",
       "      <th>20</th>\n",
       "      <td>65fbf56a4dba71a085a1da57</td>\n",
       "      <td>Eng</td>\n",
       "      <td>0.092671</td>\n",
       "      <td>False</td>\n",
       "    </tr>\n",
       "    <tr>\n",
       "      <th>21</th>\n",
       "      <td>65fbf56a4dba71a085a1d4cf</td>\n",
       "      <td>Eng</td>\n",
       "      <td>0.092462</td>\n",
       "      <td>False</td>\n",
       "    </tr>\n",
       "    <tr>\n",
       "      <th>22</th>\n",
       "      <td>65fbfb83b5440169b33df47f</td>\n",
       "      <td>Eng</td>\n",
       "      <td>0.090749</td>\n",
       "      <td>False</td>\n",
       "    </tr>\n",
       "    <tr>\n",
       "      <th>23</th>\n",
       "      <td>65fbf56a4dba71a085a1e6b3</td>\n",
       "      <td>Eng</td>\n",
       "      <td>0.090643</td>\n",
       "      <td>False</td>\n",
       "    </tr>\n",
       "    <tr>\n",
       "      <th>24</th>\n",
       "      <td>65fbfb83b5440169b33df60e</td>\n",
       "      <td>Eng</td>\n",
       "      <td>0.090527</td>\n",
       "      <td>False</td>\n",
       "    </tr>\n",
       "    <tr>\n",
       "      <th>25</th>\n",
       "      <td>65fbfb83b5440169b33e053d</td>\n",
       "      <td>Geo</td>\n",
       "      <td>0.090404</td>\n",
       "      <td>False</td>\n",
       "    </tr>\n",
       "    <tr>\n",
       "      <th>26</th>\n",
       "      <td>65fbf56a4dba71a085a1d9af</td>\n",
       "      <td>Eng</td>\n",
       "      <td>0.090048</td>\n",
       "      <td>False</td>\n",
       "    </tr>\n",
       "    <tr>\n",
       "      <th>27</th>\n",
       "      <td>65fbf56a4dba71a085a1d416</td>\n",
       "      <td>Eng</td>\n",
       "      <td>0.089919</td>\n",
       "      <td>False</td>\n",
       "    </tr>\n",
       "    <tr>\n",
       "      <th>28</th>\n",
       "      <td>65fbfb83b5440169b33e0958</td>\n",
       "      <td>His</td>\n",
       "      <td>0.089667</td>\n",
       "      <td>False</td>\n",
       "    </tr>\n",
       "    <tr>\n",
       "      <th>29</th>\n",
       "      <td>65fbfb83b5440169b33df859</td>\n",
       "      <td>Eng</td>\n",
       "      <td>0.089299</td>\n",
       "      <td>False</td>\n",
       "    </tr>\n",
       "    <tr>\n",
       "      <th>30</th>\n",
       "      <td>65fbfb83b5440169b33e08c2</td>\n",
       "      <td>Literature</td>\n",
       "      <td>0.089090</td>\n",
       "      <td>False</td>\n",
       "    </tr>\n",
       "    <tr>\n",
       "      <th>31</th>\n",
       "      <td>65fbfb83b5440169b33df627</td>\n",
       "      <td>Eng</td>\n",
       "      <td>0.088885</td>\n",
       "      <td>False</td>\n",
       "    </tr>\n",
       "    <tr>\n",
       "      <th>32</th>\n",
       "      <td>65fbf56a4dba71a085a1d865</td>\n",
       "      <td>Geo</td>\n",
       "      <td>0.088597</td>\n",
       "      <td>False</td>\n",
       "    </tr>\n",
       "    <tr>\n",
       "      <th>33</th>\n",
       "      <td>65fbf56a4dba71a085a1f68b</td>\n",
       "      <td>Geo</td>\n",
       "      <td>0.088328</td>\n",
       "      <td>False</td>\n",
       "    </tr>\n",
       "    <tr>\n",
       "      <th>34</th>\n",
       "      <td>65fbf56a4dba71a085a1f75c</td>\n",
       "      <td>His</td>\n",
       "      <td>0.087956</td>\n",
       "      <td>False</td>\n",
       "    </tr>\n",
       "    <tr>\n",
       "      <th>35</th>\n",
       "      <td>65fbf56a4dba71a085a1f01e</td>\n",
       "      <td>Eng</td>\n",
       "      <td>0.086727</td>\n",
       "      <td>False</td>\n",
       "    </tr>\n",
       "    <tr>\n",
       "      <th>36</th>\n",
       "      <td>65fbf56a4dba71a085a1dd05</td>\n",
       "      <td>Literature</td>\n",
       "      <td>0.086511</td>\n",
       "      <td>False</td>\n",
       "    </tr>\n",
       "    <tr>\n",
       "      <th>37</th>\n",
       "      <td>65fbfb83b5440169b33e0f85</td>\n",
       "      <td>His</td>\n",
       "      <td>0.086503</td>\n",
       "      <td>False</td>\n",
       "    </tr>\n",
       "    <tr>\n",
       "      <th>38</th>\n",
       "      <td>65fbfb83b5440169b33dfd08</td>\n",
       "      <td>His</td>\n",
       "      <td>0.085708</td>\n",
       "      <td>False</td>\n",
       "    </tr>\n",
       "    <tr>\n",
       "      <th>39</th>\n",
       "      <td>65fbfb83b5440169b33e08bc</td>\n",
       "      <td>Literature</td>\n",
       "      <td>0.085520</td>\n",
       "      <td>False</td>\n",
       "    </tr>\n",
       "    <tr>\n",
       "      <th>40</th>\n",
       "      <td>65fbfb83b5440169b33dfd1d</td>\n",
       "      <td>His</td>\n",
       "      <td>0.085401</td>\n",
       "      <td>False</td>\n",
       "    </tr>\n",
       "    <tr>\n",
       "      <th>41</th>\n",
       "      <td>65fbf56a4dba71a085a1e22f</td>\n",
       "      <td>Literature</td>\n",
       "      <td>0.085144</td>\n",
       "      <td>False</td>\n",
       "    </tr>\n",
       "    <tr>\n",
       "      <th>42</th>\n",
       "      <td>65fbfb83b5440169b33e09b1</td>\n",
       "      <td>His</td>\n",
       "      <td>0.084841</td>\n",
       "      <td>False</td>\n",
       "    </tr>\n",
       "    <tr>\n",
       "      <th>43</th>\n",
       "      <td>65fbfb83b5440169b33df864</td>\n",
       "      <td>Literature</td>\n",
       "      <td>0.084818</td>\n",
       "      <td>False</td>\n",
       "    </tr>\n",
       "    <tr>\n",
       "      <th>44</th>\n",
       "      <td>65fbfb83b5440169b33e122c</td>\n",
       "      <td>Eng</td>\n",
       "      <td>0.084743</td>\n",
       "      <td>False</td>\n",
       "    </tr>\n",
       "    <tr>\n",
       "      <th>45</th>\n",
       "      <td>65fbf56a4dba71a085a1d43d</td>\n",
       "      <td>Eng</td>\n",
       "      <td>0.084262</td>\n",
       "      <td>False</td>\n",
       "    </tr>\n",
       "    <tr>\n",
       "      <th>46</th>\n",
       "      <td>65fbfb83b5440169b33dfbf0</td>\n",
       "      <td>Literature</td>\n",
       "      <td>0.083891</td>\n",
       "      <td>False</td>\n",
       "    </tr>\n",
       "    <tr>\n",
       "      <th>47</th>\n",
       "      <td>65fbf56a4dba71a085a1e312</td>\n",
       "      <td>Eng</td>\n",
       "      <td>0.083679</td>\n",
       "      <td>False</td>\n",
       "    </tr>\n",
       "    <tr>\n",
       "      <th>48</th>\n",
       "      <td>65fbfb83b5440169b33df699</td>\n",
       "      <td>Eng</td>\n",
       "      <td>0.082602</td>\n",
       "      <td>False</td>\n",
       "    </tr>\n",
       "    <tr>\n",
       "      <th>49</th>\n",
       "      <td>65fbfb83b5440169b33e1436</td>\n",
       "      <td>His</td>\n",
       "      <td>0.082581</td>\n",
       "      <td>False</td>\n",
       "    </tr>\n",
       "  </tbody>\n",
       "</table>\n",
       "</div>"
      ],
      "text/plain": [
       "                    question question_category     score  already_liked\n",
       "0   65fbfb83b5440169b33e0411               Eng  0.135988          False\n",
       "1   65fbfb83b5440169b33dff4c               His  0.122309          False\n",
       "2   65fbf56a4dba71a085a1e637        Literature  0.120429          False\n",
       "3   65fbfb83b5440169b33e034f               His  0.107942          False\n",
       "4   65fbf56a4dba71a085a1f789               His  0.107368          False\n",
       "5   65fbf56a4dba71a085a1ec1c               Geo  0.106968          False\n",
       "6   65fbfb83b5440169b33df761               Geo  0.105370          False\n",
       "7   65fbfb83b5440169b33e02bf               Eng  0.104292          False\n",
       "8   65fbfb83b5440169b33e02ca               Geo  0.103083          False\n",
       "9   65fbfb83b5440169b33e04dc               Geo  0.101728          False\n",
       "10  65fbf56a4dba71a085a1efe2               Eng  0.101725          False\n",
       "11  65fbf56a4dba71a085a1f615        Literature  0.101156          False\n",
       "12  65fbf56a4dba71a085a1d8c6               Geo  0.100742          False\n",
       "13  65fbfb83b5440169b33e1237               His  0.098917          False\n",
       "14  65fbf56a4dba71a085a1ef5b               Eng  0.098468          False\n",
       "15  65fbf56a4dba71a085a1f734               Geo  0.098166          False\n",
       "16  65fbf56a4dba71a085a1f1fa               Eng  0.096946          False\n",
       "17  65fbf56a4dba71a085a1d60c        Literature  0.096829          False\n",
       "18  65fbf56a4dba71a085a1d80b        Literature  0.094536          False\n",
       "19  65fbfb83b5440169b33df0dc        Literature  0.094198          False\n",
       "20  65fbf56a4dba71a085a1da57               Eng  0.092671          False\n",
       "21  65fbf56a4dba71a085a1d4cf               Eng  0.092462          False\n",
       "22  65fbfb83b5440169b33df47f               Eng  0.090749          False\n",
       "23  65fbf56a4dba71a085a1e6b3               Eng  0.090643          False\n",
       "24  65fbfb83b5440169b33df60e               Eng  0.090527          False\n",
       "25  65fbfb83b5440169b33e053d               Geo  0.090404          False\n",
       "26  65fbf56a4dba71a085a1d9af               Eng  0.090048          False\n",
       "27  65fbf56a4dba71a085a1d416               Eng  0.089919          False\n",
       "28  65fbfb83b5440169b33e0958               His  0.089667          False\n",
       "29  65fbfb83b5440169b33df859               Eng  0.089299          False\n",
       "30  65fbfb83b5440169b33e08c2        Literature  0.089090          False\n",
       "31  65fbfb83b5440169b33df627               Eng  0.088885          False\n",
       "32  65fbf56a4dba71a085a1d865               Geo  0.088597          False\n",
       "33  65fbf56a4dba71a085a1f68b               Geo  0.088328          False\n",
       "34  65fbf56a4dba71a085a1f75c               His  0.087956          False\n",
       "35  65fbf56a4dba71a085a1f01e               Eng  0.086727          False\n",
       "36  65fbf56a4dba71a085a1dd05        Literature  0.086511          False\n",
       "37  65fbfb83b5440169b33e0f85               His  0.086503          False\n",
       "38  65fbfb83b5440169b33dfd08               His  0.085708          False\n",
       "39  65fbfb83b5440169b33e08bc        Literature  0.085520          False\n",
       "40  65fbfb83b5440169b33dfd1d               His  0.085401          False\n",
       "41  65fbf56a4dba71a085a1e22f        Literature  0.085144          False\n",
       "42  65fbfb83b5440169b33e09b1               His  0.084841          False\n",
       "43  65fbfb83b5440169b33df864        Literature  0.084818          False\n",
       "44  65fbfb83b5440169b33e122c               Eng  0.084743          False\n",
       "45  65fbf56a4dba71a085a1d43d               Eng  0.084262          False\n",
       "46  65fbfb83b5440169b33dfbf0        Literature  0.083891          False\n",
       "47  65fbf56a4dba71a085a1e312               Eng  0.083679          False\n",
       "48  65fbfb83b5440169b33df699               Eng  0.082602          False\n",
       "49  65fbfb83b5440169b33e1436               His  0.082581          False"
      ]
     },
     "execution_count": 37,
     "metadata": {},
     "output_type": "execute_result"
    }
   ],
   "source": [
    "df_recommendations"
   ]
  },
  {
   "cell_type": "code",
   "execution_count": 38,
   "metadata": {},
   "outputs": [
    {
     "data": {
      "text/plain": [
       "array(['Eng', 'His', 'Literature', 'Geo'], dtype=object)"
      ]
     },
     "execution_count": 38,
     "metadata": {},
     "output_type": "execute_result"
    }
   ],
   "source": [
    "df_recommendations[\"question_category\"].unique()"
   ]
  },
  {
   "cell_type": "code",
   "execution_count": 39,
   "metadata": {},
   "outputs": [
    {
     "data": {
      "text/plain": [
       "['Eng', 'Geo', 'Literature', 'His']"
      ]
     },
     "execution_count": 39,
     "metadata": {},
     "output_type": "execute_result"
    }
   ],
   "source": [
    "df_player_id_map[df_player_id_map[\"player\"] == player][\"player_major\"].item()"
   ]
  },
  {
   "cell_type": "code",
   "execution_count": 40,
   "metadata": {},
   "outputs": [],
   "source": [
    "model.save(\"test.npz\")"
   ]
  }
 ],
 "metadata": {
  "authors": [
   {
    "name": "Lương Đức Anh"
   }
  ],
  "kernelspec": {
   "display_name": ".venv",
   "language": "python",
   "name": "python3"
  },
  "language_info": {
   "codemirror_mode": {
    "name": "ipython",
    "version": 3
   },
   "file_extension": ".py",
   "mimetype": "text/x-python",
   "name": "python",
   "nbconvert_exporter": "python",
   "pygments_lexer": "ipython3",
   "version": "3.12.1"
  },
  "title": "Xây dựng RS với thư viện Implicit"
 },
 "nbformat": 4,
 "nbformat_minor": 2
}
